{
 "cells": [
  {
   "cell_type": "code",
   "execution_count": null,
   "metadata": {},
   "outputs": [],
   "source": [
    "from bikepointcacher import BikePointCacher, mkdir_GDrive\n",
    "import configparser"
   ]
  },
  {
   "cell_type": "code",
   "execution_count": null,
   "metadata": {},
   "outputs": [],
   "source": [
    "# Load TfL API credentials from config file\n",
    "config = configparser.ConfigParser()\n",
    "config.read('../config.txt')\n",
    "api_id = config['TFL']['api_id']\n",
    "api_key = config['TFL']['api_key']"
   ]
  },
  {
   "cell_type": "code",
   "execution_count": null,
   "metadata": {},
   "outputs": [],
   "source": [
    "# Create remote directory on Google Drive\n",
    "remote_folder_path = 'TfL_bikepoint_cache'\n",
    "remote_folder_id = mkdir_GDrive(remote_folder_path)\n",
    "print('Folder ID: {}'.format(remote_folder_id))"
   ]
  },
  {
   "cell_type": "code",
   "execution_count": null,
   "metadata": {},
   "outputs": [],
   "source": [
    "# Instantiate BikePointCacher\n",
    "cacher = BikePointCacher(api_id, api_key)"
   ]
  },
  {
   "cell_type": "code",
   "execution_count": null,
   "metadata": {},
   "outputs": [],
   "source": [
    "# Load parameters from config file\n",
    "upload_loop_wait_time = int(config['PARAMS']['upload_loop_wait_time'])\n",
    "download_loop_wait_time = int(config['PARAMS']['download_loop_wait_time'])\n",
    "units = config['PARAMS']['units']\n",
    "upload_loops = int(config['PARAMS']['upload_loops'])\n",
    "# Start BikePointCacher\n",
    "cacher.start(upload_loop_wait_time, download_loop_wait_time, units, upload_loops,\n",
    "             remote_folder_id=remote_folder_id, verbose=True)"
   ]
  },
  {
   "cell_type": "code",
   "execution_count": null,
   "metadata": {},
   "outputs": [],
   "source": []
  }
 ],
 "metadata": {
  "kernelspec": {
   "display_name": "Python 3",
   "language": "python",
   "name": "python3"
  },
  "language_info": {
   "codemirror_mode": {
    "name": "ipython",
    "version": 3
   },
   "file_extension": ".py",
   "mimetype": "text/x-python",
   "name": "python",
   "nbconvert_exporter": "python",
   "pygments_lexer": "ipython3",
   "version": "3.6.1"
  }
 },
 "nbformat": 4,
 "nbformat_minor": 2
}
