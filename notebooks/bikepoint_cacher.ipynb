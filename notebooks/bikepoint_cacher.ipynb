{
 "cells": [
  {
   "cell_type": "code",
   "execution_count": 1,
   "metadata": {},
   "outputs": [],
   "source": [
    "from bikepointcacher import BikePointCacher, mkdir_GDrive\n",
    "\n",
    "api_id = 'fffcdfe2'\n",
    "api_key = '92d100947363f402b8799976aea7fb43'"
   ]
  },
  {
   "cell_type": "code",
   "execution_count": 2,
   "metadata": {},
   "outputs": [
    {
     "name": "stdout",
     "output_type": "stream",
     "text": [
      "Creating Google Drive directory: data ...\n",
      "Folder ID: 1TJo6iglgRkF2jaVyAatuNUIIsAbY4MIF\n"
     ]
    }
   ],
   "source": [
    "remote_folder_path = 'data'\n",
    "remote_folder_id = mkdir_GDrive(remote_folder_path)\n",
    "print('Folder ID: {}'.format(remote_folder_id))"
   ]
  },
  {
   "cell_type": "code",
   "execution_count": 3,
   "metadata": {},
   "outputs": [],
   "source": [
    "cacher = BikePointCacher(api_id, api_key)"
   ]
  },
  {
   "cell_type": "code",
   "execution_count": null,
   "metadata": {},
   "outputs": [],
   "source": [
    "upload_loop_wait_time = 60\n",
    "download_loop_wait_time = 5\n",
    "units = 'min'\n",
    "upload_loops = -1 # -1 == Infinite\n",
    "cacher.start(upload_loop_wait_time, download_loop_wait_time, units, upload_loops,\n",
    "             remote_folder_id=remote_folder_id, verbose=True)"
   ]
  },
  {
   "cell_type": "code",
   "execution_count": null,
   "metadata": {},
   "outputs": [],
   "source": []
  }
 ],
 "metadata": {
  "kernelspec": {
   "display_name": "Python 3",
   "language": "python",
   "name": "python3"
  },
  "language_info": {
   "codemirror_mode": {
    "name": "ipython",
    "version": 3
   },
   "file_extension": ".py",
   "mimetype": "text/x-python",
   "name": "python",
   "nbconvert_exporter": "python",
   "pygments_lexer": "ipython3",
   "version": "3.6.1"
  }
 },
 "nbformat": 4,
 "nbformat_minor": 2
}
